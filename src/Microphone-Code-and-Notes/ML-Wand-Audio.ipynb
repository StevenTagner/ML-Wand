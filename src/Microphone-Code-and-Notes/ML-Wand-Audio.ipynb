{
 "cells": [
  {
   "cell_type": "markdown",
   "id": "f7e38111",
   "metadata": {},
   "source": [
    "# ML Wand - Audio - Steven Tagner\n",
    "\n",
    "## This file is currently code I had from a project in my ML Class - I am waiting on getting the board in the mail so I can start gathering data and running tests, as such the code will not run at the moment and all the markdown comments are written as predictions/plans rather than comments on active code.\n",
    "\n",
    "I will be testing several different models in an attempt to discover which works best for this situation. I will start with logistic regression, decision tree, and random forest models and compare them. I may look into trying new model types depending on how these do but there are no plans for that at the moment"
   ]
  },
  {
   "cell_type": "markdown",
   "id": "6901a1ce",
   "metadata": {},
   "source": [
    "Imported libraries:\n",
    "<ul>\n",
    "    <li>Pandas: for reading in data with a easy way to select the index column</li>\n",
    "    <li>NumPy: for manipulating and editing data once it is read into our program</li>\n",
    "    <li>SkLearn: to use the Decision Tree/Random Forest Classifier and Train/Test/Split functions</li>\n",
    "    <li>MatPlotLib: to plot various graphics that will help us understand what is happening with our model such as confusion matrixies and classification reports</li>\n",
    "    <li>Misc Libraries: sys, os, itertools, and traceback all provide support to our program</li>\n",
    "</ul>"
   ]
  },
  {
   "cell_type": "code",
   "execution_count": 1,
   "id": "2d5e2056",
   "metadata": {
    "scrolled": true
   },
   "outputs": [],
   "source": [
    "import sys, os\n",
    "import traceback \n",
    "from itertools import chain\n",
    "import numpy as np\n",
    "import pandas as pd \n",
    "from sklearn.model_selection import train_test_split\n",
    "from sklearn import metrics\n",
    "from sklearn.tree import DecisionTreeClassifier\n",
    "from sklearn.ensemble import RandomForestClassifier\n",
    "from sklearn.linear_model import LogisticRegression\n",
    "import matplotlib.pyplot as plt"
   ]
  },
  {
   "cell_type": "markdown",
   "id": "164d367a",
   "metadata": {},
   "source": [
    "## Pre-Processing\n",
    "Now we need to read in our data, format it, create our y set, and split it up to the train and test sets."
   ]
  },
  {
   "cell_type": "code",
   "execution_count": 2,
   "id": "dd24d0fe",
   "metadata": {
    "scrolled": false
   },
   "outputs": [],
   "source": [
    "audioData = pd.read_csv(\"..\\..\\data\\audioData.csv\", index_col = 64)\n",
    "data = np.array(audioData, ndmin =2)\n",
    "# We reshape to 25 x 64 since there are 25 samples and 64 data points for each sample \n",
    "data = np.reshape(data, (25, 64))\n",
    "\n",
    "nonAudioData = pd.read_csv(\"..\\..\\data\\nonAudioData.csv\", index_col = 64)\n",
    "NonAudiodata = np.array(audioData, ndmin =2)\n",
    "# We reshape to 25 x 64 since there are 25 samples and 64 data points for each sample \n",
    "NonAudiodata = np.reshape(data, (25, 64))\n",
    "\n",
    "data = np.insert(data, (25), NonAudioData, 0)\n",
    "\n",
    "# Our ML Model needs y values as a test set. We can create our y values with two simple loops\n",
    "y = []\n",
    "i=0\n",
    "while i < 25:\n",
    "    y.append(0)\n",
    "    i+=1\n",
    "i=0\n",
    "while i < 25:\n",
    "    y.append(1)\n",
    "    i+=1\n",
    "\n",
    "X_train, X_test, y_train, y_test = train_test_split(data, y, test_size=0.20, random_state=42)"
   ]
  },
  {
   "cell_type": "markdown",
   "id": "e3ff9622",
   "metadata": {},
   "source": [
    "## Modeling and Results\n",
    "Now that our data is formatted we can start working with it, we'll start with a Logistic Regression Model:"
   ]
  },
  {
   "cell_type": "code",
   "execution_count": 3,
   "id": "882ce666",
   "metadata": {},
   "outputs": [
    {
     "name": "stdout",
     "output_type": "stream",
     "text": [
      "Logisic Regression Precision, Recall, f1-Score, and Confusion Matrix:\n",
      " \n",
      "\n",
      "Classification report for classifier logistic regression{clflr}:\n",
      "              precision    recall  f1-score   support\n",
      "\n",
      "           0       1.00      1.00      1.00        12\n",
      "           1       1.00      1.00      1.00         8\n",
      "\n",
      "    accuracy                           1.00        20\n",
      "   macro avg       1.00      1.00      1.00        20\n",
      "weighted avg       1.00      1.00      1.00        20\n",
      "\n",
      "Logistic Regression Precision, Recall, f-1 Score, and Confusion Matrix:\n",
      " \n",
      "\n"
     ]
    },
    {
     "data": {
      "image/png": "[encoded data removed]",
      "text/plain": [
       "<Figure size 432x288 with 2 Axes>"
      ]
     },
     "metadata": {
      "needs_background": "light"
     },
     "output_type": "display_data"
    }
   ],
   "source": [
    "clflr = LogisticRegression(random_state=0)\n",
    "clflr.fit(X_train, y_train)\n",
    "predicted = clflr.predict(X_test)\n",
    "\n",
    "print(\"Logisic Regression Precision, Recall, f1-Score, and Confusion Matrix:\\n \\n\")\n",
    "\n",
    "print(\"Classification report for classifier logistic regression{clflr}:\")\n",
    "print(metrics.classification_report(y_test, predicted))\n",
    "\n",
    "plt.imshow(metrics.confusion_matrix(predicted, y_test),\n",
    "           interpolation='nearest', cmap=plt.cm.binary)\n",
    "plt.grid(True)\n",
    "plt.colorbar()\n",
    "plt.xlabel(\"predicted label\")\n",
    "plt.ylabel(\"true label\");\n",
    "\n",
    "print(\"Logistic Regression Precision, Recall, f-1 Score, and Confusion Matrix:\\n \\n\")\n"
   ]
  },
  {
   "cell_type": "markdown",
   "id": "228a4847",
   "metadata": {},
   "source": [
    "Then we can try a Decision Tree model:"
   ]
  },
  {
   "cell_type": "code",
   "execution_count": 4,
   "id": "5e8c1fa3",
   "metadata": {},
   "outputs": [
    {
     "name": "stdout",
     "output_type": "stream",
     "text": [
      "Descision Tree Precision, Recall, f1-Score, and Confusion Matrix:\n",
      " \n",
      "\n",
      "Classification report for classifier decision tree{clfdt}:\n",
      "              precision    recall  f1-score   support\n",
      "\n",
      "           0       1.00      1.00      1.00        12\n",
      "           1       1.00      1.00      1.00         8\n",
      "\n",
      "    accuracy                           1.00        20\n",
      "   macro avg       1.00      1.00      1.00        20\n",
      "weighted avg       1.00      1.00      1.00        20\n",
      "\n",
      "Descision Tree Precision, Recall, f-1 Score, and Confusion Matrix:\n",
      " \n",
      "\n"
     ]
    },
    {
     "data": {
      "image/png": "[encoded data removed]",
      "text/plain": [
       "<Figure size 432x288 with 2 Axes>"
      ]
     },
     "metadata": {
      "needs_background": "light"
     },
     "output_type": "display_data"
    }
   ],
   "source": [
    "clfdt = DecisionTreeClassifier()\n",
    "clfdt.fit(X_train, y_train)\n",
    "predicted = clfdt.predict(X_test)\n",
    "\n",
    "print(\"Descision Tree Precision, Recall, f1-Score, and Confusion Matrix:\\n \\n\")\n",
    "\n",
    "print(\"Classification report for classifier decision tree{clfdt}:\")\n",
    "print(metrics.classification_report(y_test, predicted))\n",
    "\n",
    "plt.imshow(metrics.confusion_matrix(predicted, y_test),\n",
    "           interpolation='nearest', cmap=plt.cm.binary)\n",
    "plt.grid(True)\n",
    "plt.colorbar()\n",
    "plt.xlabel(\"predicted label\")\n",
    "plt.ylabel(\"true label\");\n",
    "\n",
    "print(\"Descision Tree Precision, Recall, f-1 Score, and Confusion Matrix:\\n \\n\")"
   ]
  },
  {
   "cell_type": "markdown",
   "id": "fd3fb1e1",
   "metadata": {},
   "source": [
    "Now we can try Random Forests:"
   ]
  },
  {
   "cell_type": "code",
   "execution_count": 5,
   "id": "188a2e5d",
   "metadata": {},
   "outputs": [
    {
     "name": "stdout",
     "output_type": "stream",
     "text": [
      "Classification report for random forest classifier {clfrf}:\n",
      "              precision    recall  f1-score   support\n",
      "\n",
      "           0       1.00      1.00      1.00        12\n",
      "           1       1.00      1.00      1.00         8\n",
      "\n",
      "    accuracy                           1.00        20\n",
      "   macro avg       1.00      1.00      1.00        20\n",
      "weighted avg       1.00      1.00      1.00        20\n",
      "\n"
     ]
    },
    {
     "data": {
      "image/png": "[encoded data removed]",
      "text/plain": [
       "<Figure size 432x288 with 2 Axes>"
      ]
     },
     "metadata": {
      "needs_background": "light"
     },
     "output_type": "display_data"
    }
   ],
   "source": [
    "clfrf = RandomForestClassifier(max_depth = 3)\n",
    "clfrf.fit(X_train,y_train)\n",
    "ypredrf = clfrf.predict(X_test)\n",
    "\n",
    "print(\"Classification report for random forest classifier {clfrf}:\")\n",
    "print(metrics.classification_report(y_test, predicted))\n",
    "\n",
    "plt.imshow(metrics.confusion_matrix(ypredrf, y_test),\n",
    "           interpolation='nearest', cmap=plt.cm.binary)\n",
    "plt.grid(True)\n",
    "plt.colorbar()\n",
    "plt.xlabel(\"predicted label\")\n",
    "plt.ylabel(\"true label\");\n"
   ]
  },
  {
   "cell_type": "markdown",
   "id": "f4af5027",
   "metadata": {},
   "source": [
    "## Compiling the Chosen Model\n",
    "\n",
    "This code is for outputting our chosen model into the Ardunion sketch in order to load onto the board"
   ]
  },
  {
   "cell_type": "code",
   "execution_count": null,
   "id": "5d560db3",
   "metadata": {},
   "outputs": [],
   "source": [
    "from micromlgen import port\n",
    "\n",
    "with open(\"audioCompile\\audio_Classifier.h\", \"w\") as file:\n",
    "    file.write(port(clf, classname=\"Classifier\"))"
   ]
  }
 ],
 "metadata": {
  "kernelspec": {
   "display_name": "Python 3 (ipykernel)",
   "language": "python",
   "name": "python3"
  },
  "language_info": {
   "codemirror_mode": {
    "name": "ipython",
    "version": 3
   },
   "file_extension": ".py",
   "mimetype": "text/x-python",
   "name": "python",
   "nbconvert_exporter": "python",
   "pygments_lexer": "ipython3",
   "version": "3.9.7"
  }
 },
 "nbformat": 4,
 "nbformat_minor": 5
}
